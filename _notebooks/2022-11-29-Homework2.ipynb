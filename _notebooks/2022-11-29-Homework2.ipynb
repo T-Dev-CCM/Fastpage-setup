{
 "cells": [
  {
   "cell_type": "markdown",
   "metadata": {},
   "source": [
    "---\n",
    "toc: true\n",
    "layout: post\n",
    "comments: true\n",
    "description: Homework for our student teachers \n",
    "categories: [markdown]\n",
    "title: Homework Post\n",
    "--- "
   ]
  },
  {
   "cell_type": "code",
   "execution_count": 13,
   "metadata": {},
   "outputs": [],
   "source": [
    "Num1 = 50\n",
    "Num2 = Num1 % 9 + 15 # num 2 = 20 (5+15)\n",
    "Num3 = Num2 / Num1 + ( Num2 * 2 ) #(40) + 20/50 Num3 = 40.4 \n",
    "Num4 = Num3 + Num1 / 5 - 10 #40.4 + 50 / 5 - 10 Num4= 40.4\n",
    "Result = Num4 - Num2 #The result will be 20.4 \n",
    "\n",
    "\n",
    "\n"
   ]
  },
  {
   "cell_type": "code",
   "execution_count": 17,
   "metadata": {},
   "outputs": [],
   "source": [
    "Num1 = 10\n",
    "Num2 = Num1 % 3 * 4 # Num2 = 4 \n",
    "Num1 = Num2 #Num1 = 4 \n",
    "Num3 = Num1 * 3 #Num3=12\n",
    "Result = Num3 % 2 #Result = 0\n"
   ]
  },
  {
   "cell_type": "code",
   "execution_count": 20,
   "metadata": {},
   "outputs": [
    {
     "name": "stdout",
     "output_type": "stream",
     "text": [
      "17\n"
     ]
    }
   ],
   "source": [
    "valueA = 4\n",
    "valueB = 90\n",
    "valueC = 17\n",
    "valueB = valueC - valueA # valueB = 13\n",
    "valueA = valueA * 10 # valueA = 40\n",
    "if valueB > 10: # 13 > 10, so it would print\n",
    "    print(valueC)"
   ]
  },
  {
   "cell_type": "code",
   "execution_count": 21,
   "metadata": {},
   "outputs": [
    {
     "name": "stdout",
     "output_type": "stream",
     "text": [
      "straightbrownshort\n"
     ]
    }
   ],
   "source": [
    "type = \"curly\"\n",
    "color = \"brown\"\n",
    "length = \"short\"\n",
    "type = \"straight\"\n",
    "hair = type + color + length # Straight, short, brown\n",
    "print(hair)"
   ]
  },
  {
   "cell_type": "code",
   "execution_count": 9,
   "metadata": {},
   "outputs": [
    {
     "name": "stdout",
     "output_type": "stream",
     "text": [
      "('Very', 'handsome', 'Mr.Mort', 'is')\n"
     ]
    }
   ],
   "source": [
    "Noun = \"Mr.Mortenson\" \n",
    "Adjective = \"handsome\" \n",
    "Adjective2 = \"Very\" \n",
    "Verb = \"is\" \n",
    "abrev = (Noun [0:7]) #Abrev is \"Mr.Mort\"\n",
    "yoda = Adjective2,  Adjective, abrev,  Verb,  \n",
    "print(yoda)"
   ]
  },
  {
   "cell_type": "code",
   "execution_count": 13,
   "metadata": {},
   "outputs": [
    {
     "name": "stdout",
     "output_type": "stream",
     "text": [
      "(('chocolate', 'vote', 225), ('rasin', 'vote', 4.5))\n"
     ]
    }
   ],
   "source": [
    "cookie = \"chocolate\" \n",
    "cookie2 = \"rasin\" \n",
    "len1 = len(cookie) / 2 \n",
    "len2 = len(cookie2) * 45 \n",
    "vote1 = (cookie, \"vote\", len2) \n",
    "vote2 = (cookie2, \"vote\", len1) \n",
    "votes = (vote1, vote2) \n",
    "print(votes)"
   ]
  }
 ],
 "metadata": {
  "kernelspec": {
   "display_name": "Python 3.8.10 64-bit",
   "language": "python",
   "name": "python3"
  },
  "language_info": {
   "codemirror_mode": {
    "name": "ipython",
    "version": 3
   },
   "file_extension": ".py",
   "mimetype": "text/x-python",
   "name": "python",
   "nbconvert_exporter": "python",
   "pygments_lexer": "ipython3",
   "version": "3.8.10 (default, Jun 22 2022, 20:18:18) \n[GCC 9.4.0]"
  },
  "orig_nbformat": 4,
  "vscode": {
   "interpreter": {
    "hash": "916dbcbb3f70747c44a77c7bcd40155683ae19c65e1c03b4aa3499c5328201f1"
   }
  }
 },
 "nbformat": 4,
 "nbformat_minor": 2
}
