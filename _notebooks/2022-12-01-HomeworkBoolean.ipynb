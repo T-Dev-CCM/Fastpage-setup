{
 "cells": [
  {
   "cell_type": "code",
   "execution_count": null,
   "metadata": {},
   "outputs": [],
   "source": [
    "# Feel free to use JS or Python - we won't discriminate whilst grading you!\n",
    "# Here is a python template for you to use.\n",
    "\n",
    "cost = 1; \n",
    "if (cost <= 50):\n",
    "    print(\"This is a good product!\"); \n",
    "else: \n",
    "    if (cost >= 50):\n",
    "     print(\"This is too expensive!\"); \n",
    "    else: \n",
    "     print(\"This product is cheap\")"
   ]
  },
  {
   "cell_type": "code",
   "execution_count": 1,
   "metadata": {},
   "outputs": [
    {
     "name": "stdout",
     "output_type": "stream",
     "text": [
      "Hey Hey! It's time to take a quiz! You qill be asked 3 very vague questions based on common knowledge\n",
      "Question: Are you ready?\n",
      "Alright! Let's get started!\n",
      "Question: What shape has 4 sides and rhymes with 'hair'?\n",
      "square is the right answer!\n",
      "Question: What month has only 28 days?\n",
      "February is the right answer!\n",
      "Question: Is Mr. Mortensen a good teacher?\n",
      "Yes is the right answer!\n",
      "You're Winner!\n"
     ]
    }
   ],
   "source": [
    "import getpass, sys\n",
    "\n",
    "def question_with_response(prompt):\n",
    "    print(\"Question: \" + prompt)\n",
    "    msg = input()\n",
    "    return msg\n",
    "\n",
    "questions = 3\n",
    "correct = 0 \n",
    "\n",
    "print(\"Hey Hey! It's time to take a quiz! You qill be asked 3 very vague questions based on common knowledge\") \n",
    "rsp = question_with_response(\"Are you ready?\") \n",
    "\n",
    "if rsp == \"Yes\": \n",
    "    print(\"Alright! Let's get started!\") \n",
    "else: print(\"Whoops,Didn't quite catch that\") \n",
    "\n",
    "rsp = question_with_response(\"What shape has 4 sides and rhymes with 'hair'?\")\n",
    "if rsp == \"Square\":\n",
    "    print(rsp + \" is the right answer!\")\n",
    "    correct += 1\n",
    "else: print(rsp + \" is incorrect, oooh...\") \n",
    "\n",
    "rsp = question_with_response(\"What month has only 28 days?\") \n",
    "if rsp == \"February\":\n",
    "    print(rsp + \" is the right answer!\")\n",
    "    correct += 1\n",
    "else: print(rsp + \" is incorrect, oooh...\") \n",
    "\n",
    "rsp = question_with_response(\"Is Mr. Mortensen a good teacher?\") \n",
    "if rsp == \"Yes\":\n",
    "    print(rsp + \" is the right answer!\")\n",
    "    correct += 1\n",
    "else: print(rsp + \" is incorrect, oooh...\")\n",
    "\n",
    "print(\"You're Winner!\")\n",
    "\n",
    "\n",
    "\n",
    "\n",
    "\n",
    "\n"
   ]
  }
 ],
 "metadata": {
  "kernelspec": {
   "display_name": "Python 3.8.10 64-bit",
   "language": "python",
   "name": "python3"
  },
  "language_info": {
   "codemirror_mode": {
    "name": "ipython",
    "version": 3
   },
   "file_extension": ".py",
   "mimetype": "text/x-python",
   "name": "python",
   "nbconvert_exporter": "python",
   "pygments_lexer": "ipython3",
   "version": "3.8.10"
  },
  "orig_nbformat": 4,
  "vscode": {
   "interpreter": {
    "hash": "916dbcbb3f70747c44a77c7bcd40155683ae19c65e1c03b4aa3499c5328201f1"
   }
  }
 },
 "nbformat": 4,
 "nbformat_minor": 2
}
