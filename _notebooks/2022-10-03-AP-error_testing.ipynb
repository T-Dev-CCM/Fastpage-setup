{
 "cells": [
  {
   "cell_type": "markdown",
   "metadata": {},
   "source": [
    "# Big Idea 1 'Identifying and Correcting Errors'\n",
    "> Practice with identifying and correcting code blocks\n",
    "\n",
    "- layout: default\n",
    "- badges: false\n",
    "- permalink: /collegeboard/error\n",
    "- image: /images/apcsp.png\n",
    "- categories: [1.B, 4.C]\n",
    "- type: ap\n",
    "- week: 7"
   ]
  },
  {
   "cell_type": "markdown",
   "metadata": {},
   "source": [
    "[College Board Big Idea 1](https://apclassroom.collegeboard.org/103/home?unit=1)\n",
    "\n",
    "## Identifying and Correcting Errors (Unit 1.4)\n",
    "> Become familiar with types of errors and strategies to fixing them\n",
    "- Lightly Review Videos and take notes on topics with Blog\n",
    "- Complete assigned MCQ questions"
   ]
  },
  {
   "cell_type": "markdown",
   "metadata": {},
   "source": [
    "# Here are some code segments you can practice fixing:"
   ]
  },
  {
   "cell_type": "code",
   "execution_count": 1,
   "metadata": {},
   "outputs": [
    {
     "name": "stdout",
     "output_type": "stream",
     "text": [
      "['a', 'b', 'c', 'd', 'e', 'f', 'g', 'h', 'i', 'j', 'k', 'l', 'm', 'n', 'o', 'p', 'q', 'r', 's', 't', 'u', 'v', 'w', 'x', 'y', 'z']\n"
     ]
    }
   ],
   "source": [
    "#Create a list of the alphabet\n",
    "\n",
    "alphabet = \"abcdefghijklmnopqrstuvwxyz\"\n",
    "\n",
    "alphabetList = []\n",
    "\n",
    "for i in alphabet:\n",
    "    alphabetList.append(i)\n",
    "\n",
    "print(alphabetList)"
   ]
  },
  {
   "cell_type": "markdown",
   "metadata": {},
   "source": [
    "The intended outcome is to determine where the letter is in the alphabet using a while loop\n",
    "- There are two changes you can make"
   ]
  },
  {
   "cell_type": "code",
   "execution_count": 9,
   "metadata": {},
   "outputs": [
    {
     "name": "stdout",
     "output_type": "stream",
     "text": [
      "The letter b is the 2 letter in the alphabet\n"
     ]
    }
   ],
   "source": [
    "\n",
    "\n",
    "letter = input(\"What letter would you like to check?\")\n",
    "\n",
    "i = 0\n",
    "\n",
    "while i < 26:\n",
    "    if alphabetList[i] == letter:\n",
    "        print(\"The letter \" + letter + \" is the \" + str(i+1) + \" letter in the alphabet\")\n",
    "    i += 1\n",
    "\n"
   ]
  },
  {
   "cell_type": "markdown",
   "metadata": {},
   "source": [
    "The intended outcome is to determine where the letter is in the alphabet using a for loop\n",
    "- There are two changes you can make"
   ]
  },
  {
   "cell_type": "code",
   "execution_count": 16,
   "metadata": {},
   "outputs": [
    {
     "name": "stdout",
     "output_type": "stream",
     "text": [
      "The letter z is the 26 letter in the alphabet\n"
     ]
    }
   ],
   "source": [
    "\n",
    "\n",
    "letter = input(\"What letter would you like to check?\") \n",
    "   \n",
    "count = 1\n",
    "for i in alphabetList:\n",
    "\n",
    "    if i == letter:\n",
    "        print(\"The letter \" + letter + \" is the \" + str(count) + \" letter in the alphabet\")\n",
    "    count += 1\n",
    "\n"
   ]
  },
  {
   "cell_type": "markdown",
   "metadata": {},
   "source": [
    "This code should output the evens numbers from 0 - 10 using a while loop.\n",
    "- How can you change the code to only print the odd numbers in the list?"
   ]
  },
  {
   "cell_type": "code",
   "execution_count": 11,
   "metadata": {},
   "outputs": [
    {
     "ename": "NameError",
     "evalue": "name 'numbers' is not defined",
     "output_type": "error",
     "traceback": [
      "\u001b[0;31m---------------------------------------------------------------------------\u001b[0m",
      "\u001b[0;31mNameError\u001b[0m                                 Traceback (most recent call last)",
      "\u001b[1;32m/home/trey-dev/Fastpage-setup-9/_notebooks/2022-10-03-AP-error_testing.ipynb Cell 10\u001b[0m in \u001b[0;36m<cell line: 4>\u001b[0;34m()\u001b[0m\n\u001b[1;32m      <a href='vscode-notebook-cell://wsl%2Bubuntu/home/trey-dev/Fastpage-setup-9/_notebooks/2022-10-03-AP-error_testing.ipynb#X12sdnNjb2RlLXJlbW90ZQ%3D%3D?line=1'>2</a>\u001b[0m i \u001b[39m=\u001b[39m \u001b[39m0\u001b[39m\n\u001b[1;32m      <a href='vscode-notebook-cell://wsl%2Bubuntu/home/trey-dev/Fastpage-setup-9/_notebooks/2022-10-03-AP-error_testing.ipynb#X12sdnNjb2RlLXJlbW90ZQ%3D%3D?line=3'>4</a>\u001b[0m \u001b[39mwhile\u001b[39;00m i \u001b[39m<\u001b[39m\u001b[39m=\u001b[39m \u001b[39m10\u001b[39m:\n\u001b[0;32m----> <a href='vscode-notebook-cell://wsl%2Bubuntu/home/trey-dev/Fastpage-setup-9/_notebooks/2022-10-03-AP-error_testing.ipynb#X12sdnNjb2RlLXJlbW90ZQ%3D%3D?line=4'>5</a>\u001b[0m     evens\u001b[39m.\u001b[39mappend(numbers[i])\n\u001b[1;32m      <a href='vscode-notebook-cell://wsl%2Bubuntu/home/trey-dev/Fastpage-setup-9/_notebooks/2022-10-03-AP-error_testing.ipynb#X12sdnNjb2RlLXJlbW90ZQ%3D%3D?line=5'>6</a>\u001b[0m     i \u001b[39m+\u001b[39m\u001b[39m=\u001b[39m \u001b[39m2\u001b[39m\n\u001b[1;32m      <a href='vscode-notebook-cell://wsl%2Bubuntu/home/trey-dev/Fastpage-setup-9/_notebooks/2022-10-03-AP-error_testing.ipynb#X12sdnNjb2RlLXJlbW90ZQ%3D%3D?line=7'>8</a>\u001b[0m \u001b[39mprint\u001b[39m(evens)\n",
      "\u001b[0;31mNameError\u001b[0m: name 'numbers' is not defined"
     ]
    }
   ],
   "source": [
    "\n",
    "evens = []\n",
    "i = 0\n",
    "\n",
    "while i <= 10:\n",
    "    evens.append(numbers[i])\n",
    "    i += 2\n",
    "\n",
    "print(evens)    \n",
    "\n"
   ]
  },
  {
   "cell_type": "markdown",
   "metadata": {},
   "source": [
    "This code should output the odd numbers from 0 - 10 using a while loop."
   ]
  },
  {
   "cell_type": "code",
   "execution_count": null,
   "metadata": {},
   "outputs": [],
   "source": [
    "\n",
    "evens = []\n",
    "i = 0\n",
    "\n",
    "while i <= 10:\n",
    "    evens.append(numbers[i])\n",
    "    i += 2\n",
    "\n",
    "print(evens)"
   ]
  },
  {
   "cell_type": "markdown",
   "metadata": {},
   "source": [
    "This code should output the evens numbers from 0 - 10 using a for loop.\n",
    "- How can you change the code to only print the odd numbers in the list?"
   ]
  },
  {
   "cell_type": "code",
   "execution_count": 22,
   "metadata": {},
   "outputs": [
    {
     "name": "stdout",
     "output_type": "stream",
     "text": [
      "[1, 3, 5, 7, 9]\n"
     ]
    }
   ],
   "source": [
    "\n",
    "numbers = [0,1,2,3,4,5,6,7,8,9,10]\n",
    "evens = []\n",
    "\n",
    "for i in numbers:\n",
    "    if (numbers[i] % 2 == 1):\n",
    "        evens.append(numbers[i])\n",
    "\n",
    "print(evens)\n",
    "\n"
   ]
  },
  {
   "cell_type": "markdown",
   "metadata": {},
   "source": [
    "This code should output the odd numbers from 0 - 10 using a for loop."
   ]
  },
  {
   "cell_type": "code",
   "execution_count": 23,
   "metadata": {},
   "outputs": [
    {
     "name": "stdout",
     "output_type": "stream",
     "text": [
      "[1, 3, 5, 7, 9]\n"
     ]
    }
   ],
   "source": [
    "\n",
    "numbers = [0,1,2,3,4,5,6,7,8,9,10]\n",
    "evens = []\n",
    "\n",
    "for i in numbers:\n",
    "    if (numbers[i] % 2 == 1):\n",
    "        evens.append(numbers[i])\n",
    "\n",
    "print(evens)"
   ]
  },
  {
   "cell_type": "markdown",
   "metadata": {},
   "source": [
    "The intended outcome is printing a number between 1 and 100 once, if it is a multiple of 2 or 5 \n",
    "- 3 changes to the code will give the expected outcome. "
   ]
  },
  {
   "cell_type": "code",
   "execution_count": 30,
   "metadata": {},
   "outputs": [
    {
     "name": "stdout",
     "output_type": "stream",
     "text": [
      "[2, 4, 5, 6, 8, 10, 12, 14, 15, 16, 18, 20, 22, 24, 25, 26, 28, 30, 32, 34, 35, 36, 38, 40, 42, 44, 45, 46, 48, 50, 52, 54, 55, 56, 58, 60, 62, 64, 65, 66, 68, 70, 72, 74, 75, 76, 78, 80, 82, 84, 85, 86, 88, 90, 92, 94, 95, 96, 98, 100]\n"
     ]
    }
   ],
   "source": [
    "\n",
    "numbers = []\n",
    "newNumbers = []\n",
    "i = 0\n",
    "\n",
    "while i <= 100:\n",
    "    numbers.append(i)\n",
    "    i += 1\n",
    "\n",
    "for i in numbers:\n",
    "    if numbers [i] == 0:\n",
    "        pass\n",
    "    elif numbers[i] % 5 == 0:\n",
    "        newNumbers.append(numbers[i])\n",
    "    elif numbers[i] % 2 == 0:\n",
    "        newNumbers.append(numbers[i])\n",
    "\n",
    "print(newNumbers) \n",
    "\n"
   ]
  },
  {
   "cell_type": "code",
   "execution_count": 6,
   "metadata": {},
   "outputs": [
    {
     "name": "stdout",
     "output_type": "stream",
     "text": [
      "burger :  $ 3.99\n",
      "fries :  $ 1.99\n",
      "drink :  $ 0.99\n",
      "Please Select an Item\n"
     ]
    }
   ],
   "source": [
    "my_Menu =  {\"burger\": 3.99,\n",
    "            \"fries\": 1.99,\n",
    "            \"drink\": 0.99}  # define my menu as a dictionary data type, key is the name of food, value is price \n",
    "\n",
    "price_total = 0  #set initial value  \n",
    "\n",
    " \n",
    "# print a nice menu that allows user to choose from \n",
    "for x,y in my_Menu.items():\n",
    "    print(x,\": \",\"$\",y)\n",
    "\n",
    "\n",
    "print(\"Please Select an Item\")  #prompt user input\n",
    "myUserInput = \"burger\"  #define and set initial value\n",
    "myUserInput = input() #define variable to hold user input\n",
    "myUserOrderKey = myUserInput  #define and set initial value-- used to print out user's selected key and value\n",
    "myCounter = 0 #count through the loop \n",
    "myError = \"Whoops, try again\"\n",
    "\n",
    "for x,y in my_Menu.items(): #loop through my menu\n",
    "    if x == myUserInput: #if the user input matches a key in my menu dictionary\n",
    "        print(x,y) #then print the key and value \n",
    "        break #stop looping when you get result \n",
    "    else:\n",
    "       myCounter += 1 \n",
    "       if myCounter == 3:\n",
    "            print(myError)"
   ]
  },
  {
   "cell_type": "markdown",
   "metadata": {},
   "source": [
    "## Hacks\n",
    "> Now is a good time to think about Testing of your teams final project...\n",
    "- What errors may arise in your project?\n",
    "- What are some test cases that can be used?\n",
    "- Make sure to document any bugs you encounter and how you solved the problem."
   ]
  }
 ],
 "metadata": {
  "kernelspec": {
   "display_name": "Python 3.8.10 64-bit",
   "language": "python",
   "name": "python3"
  },
  "language_info": {
   "codemirror_mode": {
    "name": "ipython",
    "version": 3
   },
   "file_extension": ".py",
   "mimetype": "text/x-python",
   "name": "python",
   "nbconvert_exporter": "python",
   "pygments_lexer": "ipython3",
   "version": "3.8.10"
  },
  "orig_nbformat": 4,
  "vscode": {
   "interpreter": {
    "hash": "916dbcbb3f70747c44a77c7bcd40155683ae19c65e1c03b4aa3499c5328201f1"
   }
  }
 },
 "nbformat": 4,
 "nbformat_minor": 2
}
