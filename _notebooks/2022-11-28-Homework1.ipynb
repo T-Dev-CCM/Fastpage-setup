{
 "cells": [
  {
   "cell_type": "markdown",
   "metadata": {},
   "source": [
    "---\n",
    "toc: true\n",
    "layout: post\n",
    "comments: true\n",
    "description: Homework for our student teachers \n",
    "categories: [markdown]\n",
    "title: Homework Post\n",
    "--- "
   ]
  },
  {
   "cell_type": "code",
   "execution_count": 3,
   "metadata": {},
   "outputs": [
    {
     "name": "stdout",
     "output_type": "stream",
     "text": [
      "green\n",
      "red\n",
      "blue\n",
      "yellow\n"
     ]
    }
   ],
   "source": [
    "colorlist = \"green\", \"red\", \"blue\", \"yellow\" \n",
    "\n",
    "for i in colorlist: \n",
    "    print(i)"
   ]
  },
  {
   "cell_type": "code",
   "execution_count": 8,
   "metadata": {},
   "outputs": [
    {
     "name": "stdout",
     "output_type": "stream",
     "text": [
      "Strangled Red\n",
      "A Dissenion of 2 brothers after one lost their treasured pokemon\n",
      "Disabled\n",
      "The descension into madness when a musical pokemon suffers from Amusia\n",
      "Snow on Mount Silver\n",
      "What happens when the best of them all waits too long on a freezing cold mountain\n",
      "Glitchy Red\n",
      "A sentient being feels the pain of glitches inside his own game\n",
      "Lost Silver\n",
      "A tortured soul only kept partially alive from the unown that possess him\n"
     ]
    },
    {
     "data": {
      "text/plain": [
       "(None, None)"
      ]
     },
     "execution_count": 8,
     "metadata": {},
     "output_type": "execute_result"
    }
   ],
   "source": [
    "pokepastalist=[\"Strangled Red\", \"Disabled\", \"Snow on Mount Silver\", \"Glitchy Red\", \"Lost Silver\"]\n",
    "\n",
    "desclist = \"A Dissenion of 2 brothers after one lost their treasured pokemon\", \"The descension into madness when a musical pokemon suffers from Amusia\", \"What happens when the best of them all waits too long on a freezing cold mountain\", \"A sentient being feels the pain of glitches inside his own game\", \"A tortured soul only kept partially alive from the unown that possess him\"\n",
    "\n",
    "print(pokepastalist[0]),print(desclist[0]) \n",
    "print(pokepastalist[1]),print(desclist[1]) \n",
    "print(pokepastalist[2]),print(desclist[2])  \n",
    "print(pokepastalist[3]),print(desclist[3]) \n",
    "print(pokepastalist[4]),print(desclist[4])"
   ]
  }
 ],
 "metadata": {
  "kernelspec": {
   "display_name": "Python 3.8.10 64-bit",
   "language": "python",
   "name": "python3"
  },
  "language_info": {
   "codemirror_mode": {
    "name": "ipython",
    "version": 3
   },
   "file_extension": ".py",
   "mimetype": "text/x-python",
   "name": "python",
   "nbconvert_exporter": "python",
   "pygments_lexer": "ipython3",
   "version": "3.8.10"
  },
  "orig_nbformat": 4,
  "vscode": {
   "interpreter": {
    "hash": "916dbcbb3f70747c44a77c7bcd40155683ae19c65e1c03b4aa3499c5328201f1"
   }
  }
 },
 "nbformat": 4,
 "nbformat_minor": 2
}
