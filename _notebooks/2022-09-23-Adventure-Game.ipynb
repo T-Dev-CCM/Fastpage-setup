{
 "cells": [
  {
   "cell_type": "markdown",
   "metadata": {},
   "source": [
    "# This is the back part of what makes the code function."
   ]
  },
  {
   "cell_type": "code",
   "execution_count": 9,
   "metadata": {},
   "outputs": [
    {
     "name": "stdout",
     "output_type": "stream",
     "text": [
      "Hello, User\n",
      "Welcome to Curse of The Python, where your inputs will forge the output on your quest to escape\n",
      "Are you ready to embark on your adventure? Type Y or N\n",
      "Sorry, I didn't get that, look at your choices and try again\n",
      "You wake up on the stone floor in a temple, as you drearily make your way to your feet, you see a python insignia staring at you, there are 3 doors, one made of wood, one made of rusty metal, and one with a skull painted on it. Which do you choose?\n",
      "You go through the room behind the wooden door, the creaking only being absorbed by the emptiness within it...except for some writing on the wall. Read it?\n",
      "Read? or Don't?\n",
      "The text reads: 'I sing but never talk, Always run but don't walk, I have hands, but no arms, and a face, but no head'\n",
      "What could the answer be?\n"
     ]
    }
   ],
   "source": [
    "import getpass, sys\n",
    "\n",
    "def question_with_response(prompt):\n",
    "    print( prompt)\n",
    "    msg = input()\n",
    "    return msg\n",
    "\n",
    "\n",
    "print('Hello, User')\n",
    "print(\"Welcome to Curse of The Python, where your inputs will forge the output on your quest to escape\")\n",
    "rsp = question_with_response(\"Are you ready to embark on your adventure? Type Y or N\")\n",
    "\n",
    "\n",
    "\n",
    "\n",
    "if rsp == \"Y\":\n",
    "    print(\"Very Well...\") \n",
    "    rsp = question_with_response(\"Press Enter to Continue\")\n",
    "\n",
    "\n",
    "if rsp == \"N\": \n",
    "    print(\"Perhaps another time then...\")\n",
    "\n",
    "else: \n",
    "    print(\"Sorry, I didn't get that, look at your choices and try again\")\n",
    "\n",
    "rsp = question_with_response(\"You wake up on the stone floor in a temple, as you drearily make your way to your feet, you see a python insignia staring at you, there are 3 doors, one made of wood, one made of rusty metal, and one with a skull painted on it. Which do you choose?\")\n",
    "\n",
    "\n",
    "if rsp == \"Wood\": \n",
    "    print(\"You go through the room behind the wooden door, the creaking only being absorbed by the emptiness within it...except for some writing on the wall. Read it?\") \n",
    "    rsp = question_with_response (\"Read? or Don't?\")\n",
    "\n",
    "if rsp == \"Don't\":\n",
    "    print(\"Really? what else will you do?\")\n",
    "\n",
    "if rsp == \"Read\":\n",
    "    print(\"The text reads: 'I sing but never talk, Always run but don't walk, I have hands, but no arms, and a face, but no head'\")\n",
    "    rsp = question_with_response (\"What could the answer be?\")\n",
    "\n",
    "if rsp == \"Clock\":\n",
    "    print(\"As you mutter the answer to yourself, you hear a little crumble, and as you say it again, the walls move slightly, showing the outside world. Then as you yell it one more time, the walls open completely, and you run outside\")\n",
    "    print(\"You got the intellect ending\")\n",
    "\n",
    "if rsp == \"Metal\": \n",
    "    print(\"As you push your weight against the door, it slowly creaks open as you stumble into the dimly lit room it holds. As you make your way in, you see a snake stuck in a cage with the key outside. The snake looks like it wants you to free it\")\n",
    "    rsp = question_with_response (\"Free? or Leave?\")\n",
    "\n",
    "if rsp == \"Leave\":\n",
    "    print(\"Sensing your abandonment, the snake then spews venom at you, causing you to\")\n",
    "\n",
    "if rsp == \"Free\": \n",
    "    print(\"The snake sees your moral kindness as you free it from the cage, and as it slithers away through a crevice, the room begins to shake as the stone walls open revealing the outside world.\")\n",
    "    print(\"You got the Compassion Ending\")\n",
    "\n",
    "if rsp == \"Skull\": \n",
    "    print(\"The Door opens with relative ease, but upon setting foot in the room, spikes begin to come from the ceiling! As you observe what will be you impending doom, you notice a bone and a stick in the corner. Perhaps using one of these can save your life!\")\n",
    "    rsp = question_with_response(\"What do you reach for, Stick? or Bone?\")\n",
    "\n",
    "if rsp == \"Stick\":\n",
    "    print(\"You put the stick in between the floor and the ceiling, but the stick breaks under the pressure, and with that, you fell victim to the python's curse. Game over\")\n",
    "\n",
    "if rsp == \"Bone\": \n",
    "    print(\"Thankfully, the bone withstood the pressure of the ceiling, and after attempting to crush you, it retracts, revealing a ladder up to the outside\")\n",
    "    print(\"You got the Near-Death Ending\")"
   ]
  }
 ],
 "metadata": {
  "kernelspec": {
   "display_name": "Python 3.8.10 64-bit",
   "language": "python",
   "name": "python3"
  },
  "language_info": {
   "codemirror_mode": {
    "name": "ipython",
    "version": 3
   },
   "file_extension": ".py",
   "mimetype": "text/x-python",
   "name": "python",
   "nbconvert_exporter": "python",
   "pygments_lexer": "ipython3",
   "version": "3.8.10"
  },
  "orig_nbformat": 4,
  "vscode": {
   "interpreter": {
    "hash": "916dbcbb3f70747c44a77c7bcd40155683ae19c65e1c03b4aa3499c5328201f1"
   }
  }
 },
 "nbformat": 4,
 "nbformat_minor": 2
}
