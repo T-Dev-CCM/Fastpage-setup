{
 "cells": [
  {
   "attachments": {},
   "cell_type": "markdown",
   "metadata": {},
   "source": [
    "# 3.16 Lesson\n",
    "> Lesson about simulations and what they're used for \n",
    "\n",
    "- layout: default\n",
    "- toc: true\n",
    "- badges: false\n",
    "- comments: true\n",
    "- categories: [lesson]"
   ]
  },
  {
   "attachments": {},
   "cell_type": "markdown",
   "metadata": {},
   "source": [
    "# First Order of Business: Get your notebook \n",
    "\n",
    "- Open a terminal in vscode, run command: cd _notebooks, type 'wget' and paste this link into said terminal and run it \n",
    "\n",
    "- Take notes wherever you please, but you will be graded on participating "
   ]
  },
  {
   "attachments": {},
   "cell_type": "markdown",
   "metadata": {},
   "source": [
    "# So, what is a simulation anyway? \n",
    "\n",
    "- A simulation is a tested scenario used for viewing results/outputs to prepare for them in real world situations \n",
    "\n",
    "- These can be used for games like dice rolling, spinners, etc \n",
    "\n",
    "- These can be used for practical things such as building structures, testing car crashes, and other things before engaging in them in the real world \n",
    "\n",
    "- These simulations can have the option of obeying real world physics (Gravity, collision) or they can go against these norms since this is a fictitious scenario, and couldn't happen in real life"
   ]
  },
  {
   "attachments": {},
   "cell_type": "markdown",
   "metadata": {},
   "source": [
    "# Big Question \n",
    "\n",
    "- Which of the following simulations could be the LEAST useful? \n",
    "\n",
    "- A retailer trying to identify which products sold the most \n",
    "- A restaurant determining the efficiency of robots \n",
    "- An insurance company studying the rain impact of cars \n",
    "- A sports bike company studying design changes to their new bike design \n",
    "\n",
    "\n",
    "\n",
    "- If you guessed a bike company, you're wrong, because the retail simulation was the right answer. Simulating robots in food service, sudying rain impact on vehicles, and new bike design can contribute a lot more to society in comparison to seeing what products sell more than others. \n"
   ]
  },
  {
   "attachments": {},
   "cell_type": "markdown",
   "metadata": {},
   "source": [
    "# Next Big Question \n",
    "\n",
    "If you were making a simulation for making a new train station, which of the following would be true about this simulation? \n",
    "\n",
    "- It could reveal potential problems/safety issues before construction starts \n",
    "- It cannot be used to test the train station in different weather \n",
    "- Simulation will add high costs to projects \n",
    "- Simulation is not needed because this train station already exists  \n",
    "\n",
    "\n",
    "\n",
    "\n",
    "- Potential Saftey was the right answer, because you need somewhere to test the safety and ethicness of what you're about to do before you start building it. Otherwise, let's just say you'll have a special plaque for FBI's Most Wanted\n"
   ]
  },
  {
   "attachments": {},
   "cell_type": "markdown",
   "metadata": {},
   "source": [
    "# Simulation 1: "
   ]
  }
 ],
 "metadata": {
  "kernelspec": {
   "display_name": "Python 3",
   "language": "python",
   "name": "python3"
  },
  "language_info": {
   "name": "python",
   "version": "3.8.10 (default, Jun 22 2022, 20:18:18) \n[GCC 9.4.0]"
  },
  "orig_nbformat": 4,
  "vscode": {
   "interpreter": {
    "hash": "916dbcbb3f70747c44a77c7bcd40155683ae19c65e1c03b4aa3499c5328201f1"
   }
  }
 },
 "nbformat": 4,
 "nbformat_minor": 2
}
