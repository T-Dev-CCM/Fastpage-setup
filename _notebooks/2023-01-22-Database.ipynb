{
 "cells": [
  {
   "attachments": {},
   "cell_type": "markdown",
   "metadata": {},
   "source": [
    "# Database code\n",
    "\n",
    "- title: Database code\n",
    "- toc: true\n",
    "- badges: false\n"
   ]
  },
  {
   "cell_type": "code",
   "execution_count": 2,
   "metadata": {},
   "outputs": [
    {
     "ename": "NameError",
     "evalue": "name 'SQLAlchemy' is not defined",
     "output_type": "error",
     "traceback": [
      "\u001b[0;31m---------------------------------------------------------------------------\u001b[0m",
      "\u001b[0;31mNameError\u001b[0m                                 Traceback (most recent call last)",
      "\u001b[1;32m/home/trey-dev/Fastpage-setup-9/_notebooks/2023-01-22-Database.ipynb Cell 1\u001b[0m in \u001b[0;36m<cell line: 1>\u001b[0;34m()\u001b[0m\n\u001b[0;32m----> <a href='vscode-notebook-cell://wsl%2Bubuntu/home/trey-dev/Fastpage-setup-9/_notebooks/2023-01-22-Database.ipynb#W1sdnNjb2RlLXJlbW90ZQ%3D%3D?line=0'>1</a>\u001b[0m db \u001b[39m=\u001b[39m SQLAlchemy(app)\n",
      "\u001b[0;31mNameError\u001b[0m: name 'SQLAlchemy' is not defined"
     ]
    }
   ],
   "source": [
    "db = SQLAlchemy(app)"
   ]
  },
  {
   "cell_type": "code",
   "execution_count": null,
   "metadata": {},
   "outputs": [],
   "source": [
    "\"\"\" database dependencies to support sqliteDB examples \"\"\"\n",
    "\n",
    "from __init__ import app, db\n",
    "from sqlalchemy.exc import IntegrityError\n",
    "from werkzeug.security import generate_password_hash, check_password_hash\n",
    "\n",
    "\n",
    "\"\"\" Key additions to User Class for Schema definition \"\"\"\n",
    "\n",
    "# Define the User class to manage actions in the 'users' table\n",
    "# -- Object Relational Mapping (ORM) is the key concept of SQLAlchemy\n",
    "# -- a.) db.Model is like an inner layer of the onion in ORM\n",
    "# -- b.) User represents data we want to store, something that is built on db.Model\n",
    "# -- c.) SQLAlchemy ORM is layer on top of SQLAlchemy Core, then SQLAlchemy engine, SQL\n",
    "class User(db.Model):\n",
    "    __tablename__ = 'users'  # table name is plural, class name is singular\n",
    "\n",
    "    # Define the User schema with \"vars\" from object\n",
    "    id = db.Column(db.Integer, primary_key=True)\n",
    "    _name = db.Column(db.String(255), unique=False, nullable=False)\n",
    "    _uid = db.Column(db.String(255), unique=True, nullable=False)\n",
    "    _password = db.Column(db.String(255), unique=False, nullable=False)\n",
    "    _dob = db.Column(db.Date)\n",
    "\n",
    "    # Defines a relationship between User record and Notes table, one-to-many (one user to many notes)\n",
    "    posts = db.relationship(\"Post\", cascade='all, delete', backref='users', lazy=True)\n",
    "\n",
    "    # constructor of a User object, initializes the instance variables within object (self)\n",
    "    def __init__(self, name, uid, password=\"123qwerty\", dob=date.today()):\n",
    "        self._name = name    # variables with self prefix become part of the object, \n",
    "        self._uid = uid\n",
    "        self.set_password(password)\n",
    "        self._dob = dob\n"
   ]
  },
  {
   "cell_type": "code",
   "execution_count": 3,
   "metadata": {},
   "outputs": [],
   "source": [
    "def create(self):\n",
    "    try:\n",
    "        # creates a person object from User(db.Model) class, passes initializers\n",
    "        db.session.add(self)  # add prepares to persist person object to Users table\n",
    "        db.session.commit()  # SqlAlchemy \"unit of work pattern\" requires a manual commit\n",
    "        return self\n",
    "    except IntegrityError:\n",
    "        db.session.remove()\n",
    "        return None\n",
    "\n",
    "# CRUD read converts self to dictionary\n",
    "# returns dictionary\n",
    "def read(self):\n",
    "    return {\n",
    "        \"id\": self.id,\n",
    "        \"name\": self.name,\n",
    "        \"uid\": self.uid,\n",
    "        \"dob\": self.dob,\n",
    "        \"age\": self.age,\n",
    "        \"posts\": [post.read() for post in self.posts]\n",
    "    }\n",
    "\n",
    "# CRUD update: updates user name, password, phone\n",
    "# returns self\n",
    "def update(self, name=\"\", uid=\"\", password=\"\"):\n",
    "    \"\"\"only updates values with length\"\"\"\n",
    "    if len(name) > 0:\n",
    "        self.name = name\n",
    "    if len(uid) > 0:\n",
    "        self.uid = uid\n",
    "    if len(password) > 0:\n",
    "        self.set_password(password)\n",
    "    db.session.commit()\n",
    "    return self\n",
    "\n",
    "# CRUD delete: remove self\n",
    "# None\n",
    "def delete(self):\n",
    "    db.session.delete(self)\n",
    "    db.session.commit()\n",
    "    return None"
   ]
  },
  {
   "cell_type": "code",
   "execution_count": null,
   "metadata": {},
   "outputs": [],
   "source": [
    "from flask import Flask\n",
    "from flask_login import LoginManager\n",
    "from flask_sqlalchemy import SQLAlchemy\n",
    "from flask_migrate import Migrate\n",
    "\n",
    "\"\"\"\n",
    "These object can be used throughout project.\n",
    "1.) Objects from this file can be included in many blueprints\n",
    "2.) Isolating these object definitions avoids duplication and circular dependencies\n",
    "\"\"\"\n",
    "\n",
    "# Setup of key Flask object (app)\n",
    "app = Flask(__name__)\n",
    "# Setup SQLAlchemy object and properties for the database (db)\n",
    "dbURI = 'sqlite:////volumes/flask_portfolio.db'\n",
    "app.config['SQLALCHEMY_TRACK_MODIFICATIONS'] = False\n",
    "app.config['SQLALCHEMY_DATABASE_URI'] = dbURI\n",
    "app.config['SECRET_KEY'] = 'SECRET_KEY'\n",
    "db = SQLAlchemy(app)\n",
    "Migrate(app, db)\n",
    "\n",
    "# Images storage\n",
    "app.config['MAX_CONTENT_LENGTH'] = 5 * 1024 * 1024  # maximum size of uploaded content\n",
    "app.config['UPLOAD_EXTENSIONS'] = ['.jpg', '.png', '.gif']  # supported file types\n",
    "app.config['UPLOAD_FOLDER'] = 'volumes/uploads/'  # location of user uploaded content"
   ]
  }
 ],
 "metadata": {
  "kernelspec": {
   "display_name": "Python 3",
   "language": "python",
   "name": "python3"
  },
  "language_info": {
   "codemirror_mode": {
    "name": "ipython",
    "version": 3
   },
   "file_extension": ".py",
   "mimetype": "text/x-python",
   "name": "python",
   "nbconvert_exporter": "python",
   "pygments_lexer": "ipython3",
   "version": "3.8.10"
  },
  "orig_nbformat": 4,
  "vscode": {
   "interpreter": {
    "hash": "916dbcbb3f70747c44a77c7bcd40155683ae19c65e1c03b4aa3499c5328201f1"
   }
  }
 },
 "nbformat": 4,
 "nbformat_minor": 2
}
