{
 "cells": [
  {
   "cell_type": "code",
   "execution_count": 5,
   "metadata": {},
   "outputs": [
    {
     "name": "stdout",
     "output_type": "stream",
     "text": [
      "Avengers' Newest Recruit!\n",
      "Welcome to the Avengers internship program! Here you will get an in depth sense of what it's like to be among the likes of Iron Man, Thor, Hulk, and the rest of our heroes! Don't be too excited though, in your program, it will require you to think logically, solve problems, and complete puzzles. Please Press Enter to begin your experience!\n",
      "Press Enter to Play\n",
      "Here You are, Avengers HQ, the residence of some of the greatest superheroes on earth, and you've just been accepted for their new internship program. You can't help but feel excitement fill your spirits as you make your way to the door. What's your next move? (Enter/Wait/Leave)\n"
     ]
    }
   ],
   "source": [
    "import getpass, sys\n",
    "\n",
    "def question_with_response(prompt):\n",
    "    print( prompt)\n",
    "    msg = input()\n",
    "    return msg\n",
    "\n",
    "\n",
    "print(\"Avengers' Newest Recruit!\")\n",
    "print(\"Welcome to the Avengers internship program! Here you will get an in depth sense of what it's like to be among the likes of Iron Man, Thor, Hulk, and the rest of our heroes! Don't be too excited though, in your program, it will require you to think logically, solve problems, and complete puzzles. Please Press Enter to begin your experience!\")\n",
    "\n",
    "rsp = question_with_response(\"Press Enter to Play\")\n",
    "\n",
    "rsp = question_with_response(\"Here You are, Avengers HQ, the residence of some of the greatest superheroes on earth, and you've just been accepted for their new internship program. You can't help but feel excitement fill your spirits as you make your way to the door. What's your next move? (Enter/Wait/Leave)\")\n",
    "\n",
    "\n",
    "if rsp == \"Enter\":\n",
    "    print(\"\") \n",
    "\n",
    "\n"
   ]
  }
 ],
 "metadata": {
  "kernelspec": {
   "display_name": "Python 3.8.10 64-bit",
   "language": "python",
   "name": "python3"
  },
  "language_info": {
   "codemirror_mode": {
    "name": "ipython",
    "version": 3
   },
   "file_extension": ".py",
   "mimetype": "text/x-python",
   "name": "python",
   "nbconvert_exporter": "python",
   "pygments_lexer": "ipython3",
   "version": "3.8.10"
  },
  "orig_nbformat": 4,
  "vscode": {
   "interpreter": {
    "hash": "916dbcbb3f70747c44a77c7bcd40155683ae19c65e1c03b4aa3499c5328201f1"
   }
  }
 },
 "nbformat": 4,
 "nbformat_minor": 2
}
