{
 "cells": [
  {
   "cell_type": "markdown",
   "metadata": {},
   "source": [
    "# Hero Recommendations"
   ]
  },
  {
   "cell_type": "code",
   "execution_count": 1,
   "metadata": {},
   "outputs": [
    {
     "name": "stdout",
     "output_type": "stream",
     "text": [
      "[{\"title\":\"File:85F11A8E-6503-4B71-B65C-B67E3EF50378.jpeg\",\"link\":\"https://marvelcinematicuniverse.fandom.com/wiki/File:85F11A8E-6503-4B71-B65C-B67E3EF50378.jpeg\",\"source\":\"fandom\"},{\"title\":\"Agents of S.H.I.E.L.D.: The Chase\",\"link\":\"https://marvelcinematicuniverse.fandom.com/wiki/Agents_of_S.H.I.E.L.D.:_The_Chase\",\"source\":\"fandom\"},{\"title\":\"Ant-Man - Scott Lang: Small Time\",\"link\":\"https://marvelcinematicuniverse.fandom.com/wiki/Ant-Man_-_Scott_Lang:_Small_Time\",\"source\":\"fandom\"},{\"title\":\"Ant-Man and the Wasp Prelude\",\"link\":\"https://marvelcinematicuniverse.fandom.com/wiki/Ant-Man_and_the_Wasp_Prelude\",\"source\":\"fandom\"},{\"title\":\"Ant-Man Prelude\",\"link\":\"https://marvelcinematicuniverse.fandom.com/wiki/Ant-Man_Prelude\",\"source\":\"fandom\"},{\"title\":\"Ant-Man: Larger Than Life\",\"link\":\"https://marvelcinematicuniverse.fandom.com/wiki/Ant-Man:_Larger_Than_Life\",\"source\":\"fandom\"},{\"title\":\"Avengers: Age of Ultron Prelude - This Scepter'd Isle\",\"link\":\"https://marvelcinematicuniverse.fandom.com/wiki/Avengers:_Age_of_Ultron_Prelude_-_This_Scepter%27d_Isle\",\"source\":\"fandom\"},{\"title\":\"Avengers: Age of Ultron: Episode 0\",\"link\":\"https://marvelcinematicuniverse.fandom.com/wiki/Avengers:_Age_of_Ultron:_Episode_0\",\"source\":\"fandom\"},{\"title\":\"Avengers: Endgame Prelude\",\"link\":\"https://marvelcinematicuniverse.fandom.com/wiki/Avengers:_Endgame_Prelude\",\"source\":\"fandom\"},{\"title\":\"Avengers: Infinity War Prelude\",\"link\":\"https://marvelcinematicuniverse.fandom.com/wiki/Avengers:_Infinity_War_Prelude\",\"source\":\"fandom\"},{\"title\":\"Avengers: Operation HYDRA\",\"link\":\"https://marvelcinematicuniverse.fandom.com/wiki/Avengers:_Operation_HYDRA\",\"source\":\"fandom\"},{\"title\":\"Black Panther Prelude\",\"link\":\"https://marvelcinematicuniverse.fandom.com/wiki/Black_Panther_Prelude\",\"source\":\"fandom\"},{\"title\":\"Black Widow Prelude\",\"link\":\"https://marvelcinematicuniverse.fandom.com/wiki/Black_Widow_Prelude\",\"source\":\"fandom\"},{\"title\":\"Captain America & Thor: Avengers!\",\"link\":\"https://marvelcinematicuniverse.fandom.com/wiki/Captain_America_%26_Thor:_Avengers!\",\"source\":\"fandom\"},{\"title\":\"Captain America: Civil War Prelude\",\"link\":\"https://marvelcinematicuniverse.fandom.com/wiki/Captain_America:_Civil_War_Prelude\",\"source\":\"fandom\"},{\"title\":\"Captain America: Civil War Prelude Infinite Comic\",\"link\":\"https://marvelcinematicuniverse.fandom.com/wiki/Captain_America:_Civil_War_Prelude_Infinite_Comic\",\"source\":\"fandom\"},{\"title\":\"Captain America: Evil Lurks Everywhere\",\"link\":\"https://marvelcinematicuniverse.fandom.com/wiki/Captain_America:_Evil_Lurks_Everywhere\",\"source\":\"fandom\"},{\"title\":\"Captain America: First Vengeance\",\"link\":\"https://marvelcinematicuniverse.fandom.com/wiki/Captain_America:_First_Vengeance\",\"source\":\"fandom\"},{\"title\":\"Captain America: Homecoming\",\"link\":\"https://marvelcinematicuniverse.fandom.com/wiki/Captain_America:_Homecoming\",\"source\":\"fandom\"},{\"title\":\"Captain America: Road to War\",\"link\":\"https://marvelcinematicuniverse.fandom.com/wiki/Captain_America:_Road_to_War\",\"source\":\"fandom\"},{\"title\":\"Captain America: The First Avenger Adaptation\",\"link\":\"https://marvelcinematicuniverse.fandom.com/wiki/Captain_America:_The_First_Avenger_Adaptation\",\"source\":\"fandom\"},{\"title\":\"Captain America: The Winter Soldier Infinite Comic\",\"link\":\"https://marvelcinematicuniverse.fandom.com/wiki/Captain_America:_The_Winter_Soldier_Infinite_Comic\",\"source\":\"fandom\"},{\"title\":\"Captain Marvel Prelude\",\"link\":\"https://marvelcinematicuniverse.fandom.com/wiki/Captain_Marvel_Prelude\",\"source\":\"fandom\"},{\"title\":\"Doctor Strange Prelude\",\"link\":\"https://marvelcinematicuniverse.fandom.com/wiki/Doctor_Strange_Prelude\",\"source\":\"fandom\"},{\"title\":\"Doctor Strange Prelude - The Zealot\",\"link\":\"https://marvelcinematicuniverse.fandom.com/wiki/Doctor_Strange_Prelude_-_The_Zealot\",\"source\":\"fandom\"},{\"title\":\"Doctor Strange: Episode 0\",\"link\":\"https://marvelcinematicuniverse.fandom.com/wiki/Doctor_Strange:_Episode_0\",\"source\":\"fandom\"},{\"title\":\"Doctor Strange: Mystic Apprentice\",\"link\":\"https://marvelcinematicuniverse.fandom.com/wiki/Doctor_Strange:_Mystic_Apprentice\",\"source\":\"fandom\"},{\"title\":\"Eternals: The 500 Year War\",\"link\":\"https://marvelcinematicuniverse.fandom.com/wiki/Eternals:_The_500_Year_War\",\"source\":\"fandom\"},{\"title\":\"Guardians of the Galaxy Prelude\",\"link\":\"https://marvelcinematicuniverse.fandom.com/wiki/Guardians_of_the_Galaxy_Prelude\",\"source\":\"fandom\"},{\"title\":\"Guardians of the Galaxy Prequel Infinite Comic\",\"link\":\"https://marvelcinematicuniverse.fandom.com/wiki/Guardians_of_the_Galaxy_Prequel_Infinite_Comic\",\"source\":\"fandom\"},{\"title\":\"Guardians of the Galaxy Vol. 2 Prelude\",\"link\":\"https://marvelcinematicuniverse.fandom.com/wiki/Guardians_of_the_Galaxy_Vol._2_Prelude\",\"source\":\"fandom\"},{\"title\":\"Guardians of the Galaxy: Galaxy's Most Wanted\",\"link\":\"https://marvelcinematicuniverse.fandom.com/wiki/Guardians_of_the_Galaxy:_Galaxy%27s_Most_Wanted\",\"source\":\"fandom\"},{\"title\":\"Iron Man 2 Adaptation\",\"link\":\"https://marvelcinematicuniverse.fandom.com/wiki/Iron_Man_2_Adaptation\",\"source\":\"fandom\"},{\"title\":\"Iron Man 2: Black Widow: Agent of S.H.I.E.L.D.\",\"link\":\"https://marvelcinematicuniverse.fandom.com/wiki/Iron_Man_2:_Black_Widow:_Agent_of_S.H.I.E.L.D.\",\"source\":\"fandom\"},{\"title\":\"Iron Man 2: Fist of Iron\",\"link\":\"https://marvelcinematicuniverse.fandom.com/wiki/Iron_Man_2:_Fist_of_Iron\",\"source\":\"fandom\"},{\"title\":\"Iron Man 2: Nick Fury: Director of S.H.I.E.L.D.\",\"link\":\"https://marvelcinematicuniverse.fandom.com/wiki/Iron_Man_2:_Nick_Fury:_Director_of_S.H.I.E.L.D.\",\"source\":\"fandom\"},{\"title\":\"Iron Man 2: Phil Coulson: Agent of S.H.I.E.L.D.\",\"link\":\"https://marvelcinematicuniverse.fandom.com/wiki/Iron_Man_2:_Phil_Coulson:_Agent_of_S.H.I.E.L.D.\",\"source\":\"fandom\"},{\"title\":\"Iron Man 2: Public Identity\",\"link\":\"https://marvelcinematicuniverse.fandom.com/wiki/Iron_Man_2:_Public_Identity\",\"source\":\"fandom\"},{\"title\":\"Iron Man 2: Security Breach\",\"link\":\"https://marvelcinematicuniverse.fandom.com/wiki/Iron_Man_2:_Security_Breach\",\"source\":\"fandom\"},{\"title\":\"Iron Man 3 Prelude\",\"link\":\"https://marvelcinematicuniverse.fandom.com/wiki/Iron_Man_3_Prelude\",\"source\":\"fandom\"},{\"title\":\"Iron Man Royal Purple Custom Comic\",\"link\":\"https://marvelcinematicuniverse.fandom.com/wiki/Iron_Man_Royal_Purple_Custom_Comic\",\"source\":\"fandom\"},{\"title\":\"Iron Man: Fast Friends\",\"link\":\"https://marvelcinematicuniverse.fandom.com/wiki/Iron_Man:_Fast_Friends\",\"source\":\"fandom\"},{\"title\":\"Iron Man: I Am Iron Man!\",\"link\":\"https://marvelcinematicuniverse.fandom.com/wiki/Iron_Man:_I_Am_Iron_Man!\",\"source\":\"fandom\"},{\"title\":\"Iron Man: Limited Edition\",\"link\":\"https://marvelcinematicuniverse.fandom.com/wiki/Iron_Man:_Limited_Edition\",\"source\":\"fandom\"},{\"title\":\"Iron Man: Security Measures\",\"link\":\"https://marvelcinematicuniverse.fandom.com/wiki/Iron_Man:_Security_Measures\",\"source\":\"fandom\"},{\"title\":\"Iron Man: The Coming of the Melter\",\"link\":\"https://marvelcinematicuniverse.fandom.com/wiki/Iron_Man:_The_Coming_of_the_Melter\",\"source\":\"fandom\"},{\"title\":\"Iron Man: The Price of Doing Business\",\"link\":\"https://marvelcinematicuniverse.fandom.com/wiki/Iron_Man:_The_Price_of_Doing_Business\",\"source\":\"fandom\"},{\"title\":\"Iron Man: Will Online Evils Prevail?\",\"link\":\"https://marvelcinematicuniverse.fandom.com/wiki/Iron_Man:_Will_Online_Evils_Prevail%3F\",\"source\":\"fandom\"},{\"title\":\"Jessica Jones (comic)\",\"link\":\"https://marvelcinematicuniverse.fandom.com/wiki/Jessica_Jones_(comic)\",\"source\":\"fandom\"},{\"title\":\"List of Multiverse Comics\",\"link\":\"https://marvelcinematicuniverse.fandom.com/wiki/List_of_Multiverse_Comics\",\"source\":\"fandom\"},{\"title\":\"Nick Fury: Spies Like Us\",\"link\":\"https://marvelcinematicuniverse.fandom.com/wiki/Nick_Fury:_Spies_Like_Us\",\"source\":\"fandom\"},{\"title\":\"Spider-Man: Far From Home - Got To Hand it To Him\",\"link\":\"https://marvelcinematicuniverse.fandom.com/wiki/Spider-Man:_Far_From_Home_-_Got_To_Hand_it_To_Him\",\"source\":\"fandom\"},{\"title\":\"Spider-Man: Far From Home - Them's The Brakes\",\"link\":\"https://marvelcinematicuniverse.fandom.com/wiki/Spider-Man:_Far_From_Home_-_Them%27s_The_Brakes\",\"source\":\"fandom\"},{\"title\":\"Spider-Man: Far From Home Prelude\",\"link\":\"https://marvelcinematicuniverse.fandom.com/wiki/Spider-Man:_Far_From_Home_Prelude\",\"source\":\"fandom\"},{\"title\":\"Spider-Man: Homecoming Prelude\",\"link\":\"https://marvelcinematicuniverse.fandom.com/wiki/Spider-Man:_Homecoming_Prelude\",\"source\":\"fandom\"},{\"title\":\"Spider-Man: Homecoming: Fight or Flight\",\"link\":\"https://marvelcinematicuniverse.fandom.com/wiki/Spider-Man:_Homecoming:_Fight_or_Flight\",\"source\":\"fandom\"},{\"title\":\"Spider-Man: Homecoming: Morning Rush\",\"link\":\"https://marvelcinematicuniverse.fandom.com/wiki/Spider-Man:_Homecoming:_Morning_Rush\",\"source\":\"fandom\"},{\"title\":\"Spider-Man: Homecoming: School of Shock\",\"link\":\"https://marvelcinematicuniverse.fandom.com/wiki/Spider-Man:_Homecoming:_School_of_Shock\",\"source\":\"fandom\"},{\"title\":\"The Avengers Adaptation\",\"link\":\"https://marvelcinematicuniverse.fandom.com/wiki/The_Avengers_Adaptation\",\"source\":\"fandom\"},{\"title\":\"The Avengers Prelude: Black Widow Strikes\",\"link\":\"https://marvelcinematicuniverse.fandom.com/wiki/The_Avengers_Prelude:_Black_Widow_Strikes\",\"source\":\"fandom\"},{\"title\":\"The Avengers Prelude: Fury's Big Week\",\"link\":\"https://marvelcinematicuniverse.fandom.com/wiki/The_Avengers_Prelude:_Fury%27s_Big_Week\",\"source\":\"fandom\"},{\"title\":\"The Avengers: Iron Man Mark VII\",\"link\":\"https://marvelcinematicuniverse.fandom.com/wiki/The_Avengers:_Iron_Man_Mark_VII\",\"source\":\"fandom\"},{\"title\":\"The Avengers: The Avengers Initiative\",\"link\":\"https://marvelcinematicuniverse.fandom.com/wiki/The_Avengers:_The_Avengers_Initiative\",\"source\":\"fandom\"},{\"title\":\"The Incredible Hulk: The Big Picture\",\"link\":\"https://marvelcinematicuniverse.fandom.com/wiki/The_Incredible_Hulk:_The_Big_Picture\",\"source\":\"fandom\"},{\"title\":\"The Incredible Hulk: The Fury Files\",\"link\":\"https://marvelcinematicuniverse.fandom.com/wiki/The_Incredible_Hulk:_The_Fury_Files\",\"source\":\"fandom\"},{\"title\":\"Thor Adaptation\",\"link\":\"https://marvelcinematicuniverse.fandom.com/wiki/Thor_Adaptation\",\"source\":\"fandom\"},{\"title\":\"Thor, The Mighty Avenger\",\"link\":\"https://marvelcinematicuniverse.fandom.com/wiki/Thor,_The_Mighty_Avenger\",\"source\":\"fandom\"},{\"title\":\"Thor: Crown of Fools\",\"link\":\"https://marvelcinematicuniverse.fandom.com/wiki/Thor:_Crown_of_Fools\",\"source\":\"fandom\"},{\"title\":\"Thor: Ragnarok Prelude\",\"link\":\"https://marvelcinematicuniverse.fandom.com/wiki/Thor:_Ragnarok_Prelude\",\"source\":\"fandom\"},{\"title\":\"Thor: Rescue\",\"link\":\"https://marvelcinematicuniverse.fandom.com/wiki/Thor:_Rescue\",\"source\":\"fandom\"},{\"title\":\"Thor: The Dark World Prelude\",\"link\":\"https://marvelcinematicuniverse.fandom.com/wiki/Thor:_The_Dark_World_Prelude\",\"source\":\"fandom\"}]\n"
     ]
    }
   ],
   "source": [
    "# Request Digital Coin\n",
    "# RapidAPI page https://rapidapi.com/Coinranking/api/coinranking1/\n",
    "\n",
    "# Begin Rapid API Code\n",
    "import requests\n",
    "\n",
    "url = \"https://mcu-comics-and-characters.p.rapidapi.com/mcu/comics\"\n",
    "querystring = {\"referenceCurrencyUuid\":\"yhjMzLPhuIDl\",\"timePeriod\":\"24h\",\"tiers[0]\":\"1\",\"orderBy\":\"marketCap\",\"orderDirection\":\"desc\",\"limit\":\"50\",\"offset\":\"0\"}\n",
    "headers = {\n",
    "\t\"X-RapidAPI-Key\": \"edd538bb27msh43c7f0fbf4c760ap16a5a1jsna5a07305b454\",  # place your key here\n",
    "\t\"X-RapidAPI-Host\": \"mcu-comics-and-characters.p.rapidapi.com\"\n",
    "}\n",
    "\n",
    "response = requests.request(\"GET\", url, headers=headers, params=querystring)\n",
    "print(response.text)\n",
    "# End Rapid API Code\n",
    "json = response.json()  # convert response to python json object\n",
    "\n",
    "# Observe data from an API.  This is how data transports over the internet in a \"JSON\" text form\n",
    "# - The JSON \"text\" is formed in dictionary {} and list [] divisions\n",
    "# - To read the result, Data Scientist of  Developer converts JSON into human readable form\n",
    "# - Review the first line, look for the keys --  \"status\" and \"data\""
   ]
  },
  {
   "cell_type": "code",
   "execution_count": 2,
   "metadata": {},
   "outputs": [
    {
     "name": "stdout",
     "output_type": "stream",
     "text": [
      "Hi There! Please Enter one of the following options based on your preference, then we can recommend you a superhero to search! (filter is based on MCU movies)\n",
      "Type an option: Early MCU, Modern MCU, Classics, Most Popular\n",
      "Alrighty! Here are your recommended options!\n",
      "Iron Man, Hulk, Thor, Captain America, The Avengers\n",
      "Type another option for more\n",
      "Alrighty! Here are your recommended options!\n",
      "Ant-Man and the Wasp, Spider-Man, Guardians of the Galaxy, Black Widow, Avengers, Eternals, Doctor Strange, Black Panther\n",
      "Type another option for more\n",
      "Alrighty! Here are your recommended options!\n",
      "Hulk, Spider-Man, Thor, Iron Man, Captain America\n",
      "Type another option for more\n",
      "Alrighty! Here are your recommended options!\n",
      "Black Panther, Iron Man, Spider-Man, Captain America, Doctor Strange\n",
      "Type another option for more\n"
     ]
    }
   ],
   "source": [
    "def question_with_response(prompt):\n",
    "    print(prompt)\n",
    "    msg = input()\n",
    "    return msg\n",
    "\n",
    "print(\"Hi There! Please Enter one of the following options based on your preference, then we can recommend you a superhero to search! (filter is based on MCU movies)\")\n",
    "rsp = question_with_response(\"Type an option: Early MCU, Modern MCU, Classics, Most Popular\")\n",
    "\n",
    "if rsp == \"Early MCU\": \n",
    "    print(\"Alrighty! Here are your recommended options!\") \n",
    "    print(\"Iron Man, Hulk, Thor, Captain America, The Avengers\") \n",
    "rsp = question_with_response(\"Type another option for more\")\n",
    "\n",
    "if rsp == \"Modern MCU\": \n",
    "    print(\"Alrighty! Here are your recommended options!\") \n",
    "    print(\"Ant-Man and the Wasp, Spider-Man, Guardians of the Galaxy, Black Widow, Avengers, Eternals, Doctor Strange, Black Panther\")\n",
    "    rsp = question_with_response(\"Type another option for more\")\n",
    "\n",
    "if rsp == \"Classics\": \n",
    "    print(\"Alrighty! Here are your recommended options!\") \n",
    "    print(\"Hulk, Spider-Man, Thor, Iron Man, Captain America\")\n",
    "    rsp = question_with_response(\"Type another option for more\")\n",
    "\n",
    "if rsp == \"Most Popular\": \n",
    "    print(\"Alrighty! Here are your recommended options!\") \n",
    "    print(\"Black Panther, Iron Man, Spider-Man, Captain America, Doctor Strange\")\n",
    "    rsp = question_with_response(\"Type another option for more\")\n"
   ]
  }
 ],
 "metadata": {
  "kernelspec": {
   "display_name": "Python 3.8.10 64-bit",
   "language": "python",
   "name": "python3"
  },
  "language_info": {
   "codemirror_mode": {
    "name": "ipython",
    "version": 3
   },
   "file_extension": ".py",
   "mimetype": "text/x-python",
   "name": "python",
   "nbconvert_exporter": "python",
   "pygments_lexer": "ipython3",
   "version": "3.8.10"
  },
  "orig_nbformat": 4,
  "vscode": {
   "interpreter": {
    "hash": "916dbcbb3f70747c44a77c7bcd40155683ae19c65e1c03b4aa3499c5328201f1"
   }
  }
 },
 "nbformat": 4,
 "nbformat_minor": 2
}
