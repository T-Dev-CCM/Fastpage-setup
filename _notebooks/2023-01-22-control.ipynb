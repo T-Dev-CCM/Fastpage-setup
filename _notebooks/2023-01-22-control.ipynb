{
 "cells": [
  {
   "attachments": {},
   "cell_type": "markdown",
   "metadata": {},
   "source": [
    "# Control code\n",
    "\n",
    "- title: Control code\n",
    "- toc: true\n",
    "- badges: false"
   ]
  },
  {
   "cell_type": "code",
   "execution_count": 1,
   "metadata": {},
   "outputs": [
    {
     "ename": "ModuleNotFoundError",
     "evalue": "No module named 'flask'",
     "output_type": "error",
     "traceback": [
      "\u001b[0;31m---------------------------------------------------------------------------\u001b[0m",
      "\u001b[0;31mModuleNotFoundError\u001b[0m                       Traceback (most recent call last)",
      "\u001b[1;32m/home/trey-dev/Fastpage-setup-9/_notebooks/2023-01-22-control.ipynb Cell 1\u001b[0m in \u001b[0;36m<cell line: 1>\u001b[0;34m()\u001b[0m\n\u001b[0;32m----> <a href='vscode-notebook-cell://wsl%2Bubuntu/home/trey-dev/Fastpage-setup-9/_notebooks/2023-01-22-control.ipynb#W0sdnNjb2RlLXJlbW90ZQ%3D%3D?line=0'>1</a>\u001b[0m \u001b[39mfrom\u001b[39;00m \u001b[39mflask\u001b[39;00m \u001b[39mimport\u001b[39;00m Blueprint, request, jsonify\n\u001b[1;32m      <a href='vscode-notebook-cell://wsl%2Bubuntu/home/trey-dev/Fastpage-setup-9/_notebooks/2023-01-22-control.ipynb#W0sdnNjb2RlLXJlbW90ZQ%3D%3D?line=1'>2</a>\u001b[0m \u001b[39mfrom\u001b[39;00m \u001b[39mflask_restful\u001b[39;00m \u001b[39mimport\u001b[39;00m Api, Resource \u001b[39m# used for REST API building\u001b[39;00m\n\u001b[1;32m      <a href='vscode-notebook-cell://wsl%2Bubuntu/home/trey-dev/Fastpage-setup-9/_notebooks/2023-01-22-control.ipynb#W0sdnNjb2RlLXJlbW90ZQ%3D%3D?line=2'>3</a>\u001b[0m \u001b[39mfrom\u001b[39;00m \u001b[39mdatetime\u001b[39;00m \u001b[39mimport\u001b[39;00m datetime\n",
      "\u001b[0;31mModuleNotFoundError\u001b[0m: No module named 'flask'"
     ]
    }
   ],
   "source": [
    "from flask import Blueprint, request, jsonify\n",
    "from flask_restful import Api, Resource # used for REST API building\n",
    "from datetime import datetime\n",
    "\n",
    "from model.users import User\n",
    "\n",
    "# blueprint, which is registered to app in main.py\n",
    "user_api = Blueprint('user_api', __name__,\n",
    "                   url_prefix='/api/users')\n",
    "\n",
    "# API docs https://flask-restful.readthedocs.io/en/latest/api.html#id1\n",
    "api = Api(user_api)\n",
    "class UserAPI:        \n",
    "    class _Create(Resource):\n",
    "        def post(self):\n",
    "            ''' Read data for json body '''\n",
    "            body = request.get_json()\n",
    "            \n",
    "            ''' Avoid garbage in, error checking '''\n",
    "            # validate name\n",
    "            name = body.get('name')\n",
    "            if name is None or len(name) < 2:\n",
    "                return {'message': f'Name is missing, or is less than 2 characters'}, 210\n",
    "            # validate uid\n",
    "            uid = body.get('uid')\n",
    "            if uid is None or len(uid) < 2:\n",
    "                return {'message': f'User ID is missing, or is less than 2 characters'}, 210\n",
    "            # look for password and dob\n",
    "            password = body.get('password')\n",
    "            dob = body.get('dob')\n",
    "\n",
    "            ''' #1: Key code block, setup USER OBJECT '''\n",
    "            uo = User(name=name, \n",
    "                      uid=uid)\n",
    "            \n",
    "            ''' Additional garbage error checking '''\n",
    "            # set password if provided\n",
    "            if password is not None:\n",
    "                uo.set_password(password)\n",
    "            # convert to date type\n",
    "            if dob is not None:\n",
    "                try:\n",
    "                    uo.dob = datetime.strptime(dob, '%m-%d-%Y').date()\n",
    "                except:\n",
    "                    return {'message': f'Date of birth format error {dob}, must be mm-dd-yyyy'}, 210\n",
    "            \n",
    "            ''' #2: Key Code block to add user to database '''\n",
    "            # create user in database\n",
    "            user = uo.create()\n",
    "            # success returns json of user\n",
    "            if user:\n",
    "                return jsonify(user.read())\n",
    "            # failure returns error\n",
    "            return {'message': f'Processed {name}, either a format error or User ID {uid} is duplicate'}, 210\n",
    "\n",
    "    class _Read(Resource):\n",
    "        def get(self):\n",
    "            users = User.query.all()    # read/extract all users from database\n",
    "            json_ready = [user.read() for user in users]  # prepare output in json\n",
    "            return jsonify(json_ready)  # jsonify creates Flask response object, more specific to APIs than json.dumps\n",
    "\n",
    "    # building RESTapi endpoint\n",
    "    api.add_resource(_Create, '/create')\n",
    "    api.add_resource(_Read, '/')"
   ]
  }
 ],
 "metadata": {
  "kernelspec": {
   "display_name": "Python 3",
   "language": "python",
   "name": "python3"
  },
  "language_info": {
   "codemirror_mode": {
    "name": "ipython",
    "version": 3
   },
   "file_extension": ".py",
   "mimetype": "text/x-python",
   "name": "python",
   "nbconvert_exporter": "python",
   "pygments_lexer": "ipython3",
   "version": "3.8.10 (default, Jun 22 2022, 20:18:18) \n[GCC 9.4.0]"
  },
  "orig_nbformat": 4,
  "vscode": {
   "interpreter": {
    "hash": "916dbcbb3f70747c44a77c7bcd40155683ae19c65e1c03b4aa3499c5328201f1"
   }
  }
 },
 "nbformat": 4,
 "nbformat_minor": 2
}
