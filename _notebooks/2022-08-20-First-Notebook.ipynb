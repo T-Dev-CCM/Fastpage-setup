{
 "cells": [
  {
   "cell_type": "code",
   "execution_count": 12,
   "id": "f6943875",
   "metadata": {},
   "outputs": [],
   "source": [
    "# Hi, If you're reading this, I'm probably going to feel really proud of myself. Why? Because I made my first notebook without knowing how to code! \n"
   ]
  },
 {
   "cell_type": "code",
   "execution_count": 2,
   "metadata": {},
   "outputs": [
    {
     "name": "stdout",
     "output_type": "stream",
     "text": [
      "Hello World!\n"
     ]
    }
   ],
   "source": [
    "\n",
    "print(\"Hello World!\")"
   ]
  }
 ],
 "metadata": {
  "kernelspec": {
   "display_name": "Python 3.10.6 64-bit (windows store)",
   "language": "python",
   "name": "python3"
  },
  "language_info": {
   "codemirror_mode": {
    "name": "ipython",
    "version": 3
   },
   "file_extension": ".py",
   "mimetype": "text/x-python",
   "name": "python",
   "nbconvert_exporter": "python",
   "pygments_lexer": "ipython3",
   "version": "3.10.6"
  },
  "orig_nbformat": 4,
  "vscode": {
   "interpreter": {
    "hash": "b87af87f9a72938a2b07e128b28a5d60d642583086c1837945e6fa8bb988c72d"
   }
  }
 },
 "nbformat": 4,
 "nbformat_minor": 2
}
