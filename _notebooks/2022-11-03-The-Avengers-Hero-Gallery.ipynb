{
 "cells": [
  {
   "cell_type": "code",
   "execution_count": 4,
   "metadata": {},
   "outputs": [
    {
     "name": "stdout",
     "output_type": "stream",
     "text": [
      "['Iron Man', 'Thor', 'Hulk', 'Hawkeye', 'Black Widow', 'Ant-Man', 'Captain America', 'Black Panther', 'Spider-Man', 'Doctor Strange', 'Star Lord', 'Groot', 'Drax', 'Rocket Raccoon', 'Gamora', 'Nick Fury', 'Wolverine', 'Deadpool', 'Vision', 'Scarlet Witch', 'Quicksilver', 'Winter Soldier', 'Captain Marvel', 'Falcon', 'Moon Knight', 'Shang-Chi', 'Ms. Marvel']\n"
     ]
    }
   ],
   "source": [
    "Heroes = ['Iron Man','Thor','Hulk','Hawkeye','Black Widow','Ant-Man','Captain America','Black Panther','Spider-Man','Doctor Strange','Star Lord','Groot','Drax','Rocket Raccoon','Gamora','Nick Fury','Wolverine','Deadpool','Vision','Scarlet Witch','Quicksilver','Winter Soldier','Captain Marvel','Falcon','Moon Knight','Shang-Chi','Ms. Marvel']\n",
    "\n",
    "print(Heroes)"
   ]
  }
 ],
 "metadata": {
  "kernelspec": {
   "display_name": "Python 3.8.10 64-bit",
   "language": "python",
   "name": "python3"
  },
  "language_info": {
   "codemirror_mode": {
    "name": "ipython",
    "version": 3
   },
   "file_extension": ".py",
   "mimetype": "text/x-python",
   "name": "python",
   "nbconvert_exporter": "python",
   "pygments_lexer": "ipython3",
   "version": "3.8.10"
  },
  "orig_nbformat": 4,
  "vscode": {
   "interpreter": {
    "hash": "916dbcbb3f70747c44a77c7bcd40155683ae19c65e1c03b4aa3499c5328201f1"
   }
  }
 },
 "nbformat": 4,
 "nbformat_minor": 2
}
